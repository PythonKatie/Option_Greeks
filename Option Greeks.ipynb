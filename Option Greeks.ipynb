{
 "cells": [
  {
   "cell_type": "code",
   "execution_count": 13,
   "metadata": {},
   "outputs": [
    {
     "name": "stdout",
     "output_type": "stream",
     "text": [
      "The Call option price is  28.805\n",
      "The Put option price is  22.261\n"
     ]
    }
   ],
   "source": [
    "##OPTION Price and Greeks\n",
    "import numpy as np\n",
    "import scipy.stats as si\n",
    "import sympy as sy\n",
    "import sympy.stats as systats\n",
    "\n",
    "s = 100\n",
    "k = 120\n",
    "r = .05\n",
    "t = 5\n",
    "vol = .30\n",
    "\n",
    "d1 = ((np.log(s/k)) + (r + (vol**2)/2)*t)/ (vol* np.sqrt(t))\n",
    "d2 = d1 - (vol* np.sqrt(t))\n",
    "\n",
    "call_price = (s * si.norm.cdf(d1)) - (k * np.exp(-r*t) * si.norm.cdf(d2))\n",
    "call_price = str(round(call_price, 3))\n",
    "print(\"The Call option price is \", call_price)\n",
    "\n",
    "put_price = (k * np.exp(-r*t) * si.norm.cdf(-d2)) - (s * si.norm.cdf(-d1))\n",
    "put_price = str(round(put_price, 3))\n",
    "print(\"The Put option price is \", put_price) "
   ]
  },
  {
   "cell_type": "code",
   "execution_count": 14,
   "metadata": {},
   "outputs": [],
   "source": [
    "## DELTA CALL and DELTA PUT\n",
    "def delta_call(s, k, r, vol, t):\n",
    "    d1 = ((np.log(s/k)) + (r + (vol**2)/2)*t)/ (vol* np.sqrt(t))\n",
    "    dc = si.norm.cdf(d1, 0.0, 1.0)\n",
    "    delta_call = dc\n",
    "    return delta_call\n",
    "\n",
    "def delta_put(s, k, r, vol, t):\n",
    "    d1 = ((np.log(s/k)) + (r + (vol**2)/2)*t)/ (vol* np.sqrt(t))\n",
    "    dp = si.norm.cdf(-d1, 0.0, 1.0)\n",
    "    \n",
    "    delta_put = -dp\n",
    "    return delta_put"
   ]
  },
  {
   "cell_type": "code",
   "execution_count": 10,
   "metadata": {},
   "outputs": [
    {
     "data": {
      "text/plain": [
       "0.6686901917528891"
      ]
     },
     "execution_count": 10,
     "metadata": {},
     "output_type": "execute_result"
    }
   ],
   "source": [
    "delta_call(s, k, r, vol, t)"
   ]
  },
  {
   "cell_type": "code",
   "execution_count": 23,
   "metadata": {},
   "outputs": [
    {
     "data": {
      "text/plain": [
       "-0.33130980824711087"
      ]
     },
     "execution_count": 23,
     "metadata": {},
     "output_type": "execute_result"
    }
   ],
   "source": [
    "delta_put(s, k, r, vol, t)"
   ]
  },
  {
   "cell_type": "code",
   "execution_count": 37,
   "metadata": {},
   "outputs": [],
   "source": [
    "## THETA\n",
    "def theta_call(s, k, r, vol, t):\n",
    "    d1 = ((np.log(s/k)) + (r + (vol**2)/2)*t)/ (vol* np.sqrt(t))\n",
    "    d2 = d1 - (vol* np.sqrt(t))\n",
    "    #d2 = ((np.log(s/k)) + (r - (vol**2)/2)*t)/ (vol* np.sqrt(t))\n",
    "    prob_density = 1 / np.sqrt(2 * np.pi) * np.exp(-d1**2 * 0.5)\n",
    "   \n",
    "    theta = -((vol * s * prob_density) / (2*np.sqrt(t))) - (r * k * np.exp(-r*t) * si.norm.cdf(d2, 0.0, 1.0))\n",
    "    \n",
    "    return theta"
   ]
  },
  {
   "cell_type": "code",
   "execution_count": 38,
   "metadata": {},
   "outputs": [
    {
     "data": {
      "text/plain": [
       "-4.336404481972519"
      ]
     },
     "execution_count": 38,
     "metadata": {},
     "output_type": "execute_result"
    }
   ],
   "source": [
    "theta_call(s, k, r, vol, t)"
   ]
  },
  {
   "cell_type": "code",
   "execution_count": 30,
   "metadata": {},
   "outputs": [],
   "source": [
    "## GAMMA\n",
    "def gamma(s, k, r, vol, t):\n",
    "    d1 = ((np.log(s/k)) + (r + (vol**2)/2)*t)/ (vol* np.sqrt(t))\n",
    "    d2 = d1 - (vol* np.sqrt(t))\n",
    "    prob_density = 1 / np.sqrt(2 * np.pi) * np.exp(-d1**2 * 0.5)\n",
    "   \n",
    "    gamma = prob_density / (s * vol * np.sqrt(t))\n",
    "    \n",
    "    return gamma"
   ]
  },
  {
   "cell_type": "code",
   "execution_count": 31,
   "metadata": {},
   "outputs": [
    {
     "data": {
      "text/plain": [
       "0.005407148554145147"
      ]
     },
     "execution_count": 31,
     "metadata": {},
     "output_type": "execute_result"
    }
   ],
   "source": [
    "gamma(s, k, r, vol, t)"
   ]
  },
  {
   "cell_type": "code",
   "execution_count": 49,
   "metadata": {},
   "outputs": [],
   "source": [
    "## VEGA\n",
    "def vega(s, k, r, vol, t):\n",
    "    d1 = ((np.log(s/k)) + (r + (vol**2)/2)*t)/ (vol* np.sqrt(t))\n",
    "    d2 = d1 - (vol* np.sqrt(t))\n",
    "    prob_density = 1 / np.sqrt(2 * np.pi) * np.exp(-d1**2 * 0.5)\n",
    "   \n",
    "    vega = s * prob_density * np.sqrt(t)\n",
    "    vega = vega /100\n",
    "    \n",
    "    return vega"
   ]
  },
  {
   "cell_type": "code",
   "execution_count": 50,
   "metadata": {},
   "outputs": [
    {
     "data": {
      "text/plain": [
       "0.8110722831217723"
      ]
     },
     "execution_count": 50,
     "metadata": {},
     "output_type": "execute_result"
    }
   ],
   "source": [
    "vega(s, k, r, vol, t)"
   ]
  },
  {
   "cell_type": "code",
   "execution_count": 47,
   "metadata": {},
   "outputs": [],
   "source": [
    "## RHO\n",
    "def rho_call(s, k, r, vol, t):\n",
    "    d1 = ((np.log(s/k)) + (r + (vol**2)/2)*t)/ (vol* np.sqrt(t))\n",
    "    d2 = d1 - (vol* np.sqrt(t))\n",
    "    \n",
    "    rho_call = t * k * np.exp(-r*t) * si.norm.cdf(d2, 0.0, 1.0)\n",
    "    rho_call = rho_call/100\n",
    "    \n",
    "    return rho_call"
   ]
  },
  {
   "cell_type": "code",
   "execution_count": 48,
   "metadata": {},
   "outputs": [
    {
     "data": {
      "text/plain": [
       "1.9031876326072017"
      ]
     },
     "execution_count": 48,
     "metadata": {},
     "output_type": "execute_result"
    }
   ],
   "source": [
    "rho_call(s, k, r, vol, t)"
   ]
  },
  {
   "cell_type": "code",
   "execution_count": null,
   "metadata": {},
   "outputs": [],
   "source": []
  }
 ],
 "metadata": {
  "kernelspec": {
   "display_name": "Python 3",
   "language": "python",
   "name": "python3"
  },
  "language_info": {
   "codemirror_mode": {
    "name": "ipython",
    "version": 3
   },
   "file_extension": ".py",
   "mimetype": "text/x-python",
   "name": "python",
   "nbconvert_exporter": "python",
   "pygments_lexer": "ipython3",
   "version": "3.7.3"
  }
 },
 "nbformat": 4,
 "nbformat_minor": 4
}
